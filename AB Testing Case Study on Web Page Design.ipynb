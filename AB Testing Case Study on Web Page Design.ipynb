{
 "cells": [
  {
   "cell_type": "markdown",
   "id": "8b16cee7",
   "metadata": {},
   "source": [
    " #                                     A/B Testing Case Study on Web Page design"
   ]
  },
  {
   "cell_type": "markdown",
   "id": "df8817bf",
   "metadata": {},
   "source": [
    "## Objective \n",
    "The objective of this case study is to illustrate the process of conducting A/B testing. An artificial dataset from Kaggle has been utilized for this purpose."
   ]
  },
  {
   "cell_type": "markdown",
   "id": "9ce2c079",
   "metadata": {},
   "source": [
    "# Part 1. Bussiness Goal and Product Feature Detail "
   ]
  },
  {
   "cell_type": "markdown",
   "id": "5cfbfa23",
   "metadata": {},
   "source": [
    "## Define testing variations and Choosing right metrics\n",
    "\n",
    "Through surveys, focus groups, Google analytics, interviews with customers can help define the areas where business needs optimization.\n",
    "\n",
    "The commonly used metrics are the number of visits on the page, session duration, and click-through rates\n"
   ]
  },
  {
   "cell_type": "markdown",
   "id": "646af5f5",
   "metadata": {},
   "source": [
    "This case study employs a sample dataset obtained from Kaggle to exemplify the process of A/B testing. The dataset includes a 'landing_page' column with two distinct categorical values: 'old_page' and 'new_page.' The objective of this study is to apply A/B testing methodology to determine whether the new page design yields a 2% increase in conversion rate.\n",
    "\n",
    "Consequently, our primary metrics of interest will be the Conversion Rates.\n",
    "\n",
    "The study comprises two groups: the control group and the treatment group. The control group will be exposed to the old design, while the treatment group will experience the new design.\"\n"
   ]
  },
  {
   "cell_type": "markdown",
   "id": "7ecb99b8",
   "metadata": {},
   "source": [
    "# Part 2. State Bussiness Hypothesis, and Null Hypothesis"
   ]
  },
  {
   "cell_type": "markdown",
   "id": "527eb6af",
   "metadata": {},
   "source": [
    "Null Hypothesis (H0): There is no effect of the new design on the conversion rate.\n",
    "\n",
    "Alternative Hypothesis (Ha): There is a change in the conversion rate."
   ]
  },
  {
   "cell_type": "markdown",
   "id": "18a40797",
   "metadata": {},
   "source": [
    "Our primary metric is Conversion Rate\n",
    "Our Secondary metric could be Revenue, Avarage Order Value, Click Through Rate\n",
    "Our Guardrail metrids could be Bounce Rates\n",
    "\n",
    "In this particular case, as the dataset in question originates from Kaggle, we will not be evaluating the secondary metrics and guardrail metrics due to the absence of available information."
   ]
  },
  {
   "cell_type": "markdown",
   "id": "d23afcaf",
   "metadata": {},
   "source": [
    "# Part 3. Choose alpha, Power, Minimum Detectable Effect (MDE), and Calculate Sample Size and Duration for the Test"
   ]
  },
  {
   "cell_type": "markdown",
   "id": "31d6c5d6",
   "metadata": {},
   "source": [
    "### Randomization Units\n",
    "\n",
    "The initial step in determining randomization units involves assessing the presence of a network effect. If a network effect exists, the selection of randomization units needs to be adapted accordingly. Depending on the study's characteristics, potential approaches include geo-based randomization, time-based randomization, network-cluster randomization, or network ego-centric randomization.\n",
    "\n",
    "In our specific case study, we will assume the absence of a network effect that requires adjustment. Therefore, the randomization unit for the experiment will be the individual user."
   ]
  },
  {
   "cell_type": "markdown",
   "id": "5356d8cf",
   "metadata": {},
   "source": [
    "### Sample size calculation\n",
    "Baseline conversion rate, minimum detectable effect, statistical power, and significance level are four important parameters required to estimate sample size."
   ]
  },
  {
   "cell_type": "markdown",
   "id": "6ffc734d",
   "metadata": {},
   "source": [
    "In this test, 0.05 used as the significance level corresponds to 95% of the confidence interval. As given in the case study, the minimum detectable effect should be 2%. Generally, experiments use 80% as statistical power, which means that if there is any difference between new and old design, then there is an 80% chance that this test can detect it.\n",
    "\n",
    "Let's assume the baseline conversion rate is 12%, and as a result the expected rate with 2% MDE would be 14%. \n"
   ]
  },
  {
   "cell_type": "code",
   "execution_count": 1,
   "id": "96d9200c",
   "metadata": {},
   "outputs": [],
   "source": [
    "# import libraries\n",
    "import numpy as np\n",
    "import pandas as pd\n",
    "import statsmodels.stats.api as sm\n",
    "from statsmodels.stats.proportion import proportions_ztest, proportion_confint\n"
   ]
  },
  {
   "cell_type": "code",
   "execution_count": 2,
   "id": "dbff3c62",
   "metadata": {},
   "outputs": [
    {
     "data": {
      "text/plain": [
       "4432"
      ]
     },
     "execution_count": 2,
     "metadata": {},
     "output_type": "execute_result"
    }
   ],
   "source": [
    "# Lets calculate effect size first and then sample size\n",
    "# we will have a 1:1 ratio of the treatment to control group \n",
    "\n",
    "base_cr = 0.12\n",
    "expected_cr = 0.14\n",
    "\n",
    "effect_size = sm.proportion_effectsize(base_cr, expected_cr)\n",
    "\n",
    "sample_size = sm.NormalIndPower().solve_power(effect_size, power = 0.8, alpha = 0.05, ratio = 1)\n",
    "sample_size = round(sample_size)\n",
    "sample_size\n"
   ]
  },
  {
   "cell_type": "markdown",
   "id": "ae0241b7",
   "metadata": {},
   "source": [
    "The test requires a minimum of 4569 samples from each group to produce a statistically significant result."
   ]
  },
  {
   "cell_type": "markdown",
   "id": "347ba5ad",
   "metadata": {},
   "source": [
    "### Duration of the Test\n",
    "\n",
    "To estimate the duration of an A/B test, the first step is to assess the number of daily visitors or users on your website. Next, divide the required sample size by the expected daily traffic or user volume. This calculation will provide an estimate of the test duration necessary to collect the required data. However, it's important to note that the estimated duration is an approximation, as unforeseen factors and fluctuations in traffic patterns can influence the actual test duration. It is advisable to run the test for an adequate period to accommodate any weekly or seasonal variations in user behavior."
   ]
  },
  {
   "cell_type": "markdown",
   "id": "bf1812b9",
   "metadata": {},
   "source": [
    "# Part 3. Data Collection and Exploration"
   ]
  },
  {
   "cell_type": "markdown",
   "id": "7a9dbe2c",
   "metadata": {},
   "source": [
    "### This Case Study uses an example dataset from Kaggle to demonstrate A/B testing. "
   ]
  },
  {
   "cell_type": "markdown",
   "id": "4875f7ca",
   "metadata": {},
   "source": [
    "The table below shows the top 5 rows of the dataset. \n",
    "The dataset has 5 columns; however, columns such as group, landing_page, and converted are more relevant for this test."
   ]
  },
  {
   "cell_type": "code",
   "execution_count": 3,
   "id": "973e4442",
   "metadata": {},
   "outputs": [
    {
     "data": {
      "text/html": [
       "<div>\n",
       "<style scoped>\n",
       "    .dataframe tbody tr th:only-of-type {\n",
       "        vertical-align: middle;\n",
       "    }\n",
       "\n",
       "    .dataframe tbody tr th {\n",
       "        vertical-align: top;\n",
       "    }\n",
       "\n",
       "    .dataframe thead th {\n",
       "        text-align: right;\n",
       "    }\n",
       "</style>\n",
       "<table border=\"1\" class=\"dataframe\">\n",
       "  <thead>\n",
       "    <tr style=\"text-align: right;\">\n",
       "      <th></th>\n",
       "      <th>user_id</th>\n",
       "      <th>timestamp</th>\n",
       "      <th>group</th>\n",
       "      <th>landing_page</th>\n",
       "      <th>converted</th>\n",
       "    </tr>\n",
       "  </thead>\n",
       "  <tbody>\n",
       "    <tr>\n",
       "      <th>0</th>\n",
       "      <td>851104</td>\n",
       "      <td>2017-01-21 22:11:48.556739</td>\n",
       "      <td>control</td>\n",
       "      <td>old_page</td>\n",
       "      <td>0</td>\n",
       "    </tr>\n",
       "    <tr>\n",
       "      <th>1</th>\n",
       "      <td>804228</td>\n",
       "      <td>2017-01-12 08:01:45.159739</td>\n",
       "      <td>control</td>\n",
       "      <td>old_page</td>\n",
       "      <td>0</td>\n",
       "    </tr>\n",
       "    <tr>\n",
       "      <th>2</th>\n",
       "      <td>661590</td>\n",
       "      <td>2017-01-11 16:55:06.154213</td>\n",
       "      <td>treatment</td>\n",
       "      <td>new_page</td>\n",
       "      <td>0</td>\n",
       "    </tr>\n",
       "    <tr>\n",
       "      <th>3</th>\n",
       "      <td>853541</td>\n",
       "      <td>2017-01-08 18:28:03.143765</td>\n",
       "      <td>treatment</td>\n",
       "      <td>new_page</td>\n",
       "      <td>0</td>\n",
       "    </tr>\n",
       "    <tr>\n",
       "      <th>4</th>\n",
       "      <td>864975</td>\n",
       "      <td>2017-01-21 01:52:26.210827</td>\n",
       "      <td>control</td>\n",
       "      <td>old_page</td>\n",
       "      <td>1</td>\n",
       "    </tr>\n",
       "  </tbody>\n",
       "</table>\n",
       "</div>"
      ],
      "text/plain": [
       "   user_id                   timestamp      group landing_page  converted\n",
       "0   851104  2017-01-21 22:11:48.556739    control     old_page          0\n",
       "1   804228  2017-01-12 08:01:45.159739    control     old_page          0\n",
       "2   661590  2017-01-11 16:55:06.154213  treatment     new_page          0\n",
       "3   853541  2017-01-08 18:28:03.143765  treatment     new_page          0\n",
       "4   864975  2017-01-21 01:52:26.210827    control     old_page          1"
      ]
     },
     "execution_count": 3,
     "metadata": {},
     "output_type": "execute_result"
    }
   ],
   "source": [
    "# Import data\n",
    "data = pd.read_csv(r'C:\\Users\\freta\\Downloads\\archive.zip')\n",
    "data.head()"
   ]
  },
  {
   "cell_type": "markdown",
   "id": "0b1cab91",
   "metadata": {},
   "source": [
    "### Data cleaning:\n",
    "The first step for any analysis should start with exploratory data analysis. Hence, it is good to check and remove any null and duplicate values in the dataset."
   ]
  },
  {
   "cell_type": "code",
   "execution_count": 4,
   "id": "6687633a",
   "metadata": {},
   "outputs": [
    {
     "data": {
      "text/plain": [
       "user_id         0\n",
       "timestamp       0\n",
       "group           0\n",
       "landing_page    0\n",
       "converted       0\n",
       "dtype: int64"
      ]
     },
     "execution_count": 4,
     "metadata": {},
     "output_type": "execute_result"
    }
   ],
   "source": [
    "# check null value\n",
    "\n",
    "data.isnull().sum()\n",
    "\n",
    "# The dataset doesn't have any null values"
   ]
  },
  {
   "cell_type": "code",
   "execution_count": 5,
   "id": "9958e97f",
   "metadata": {},
   "outputs": [
    {
     "data": {
      "text/plain": [
       "3894"
      ]
     },
     "execution_count": 5,
     "metadata": {},
     "output_type": "execute_result"
    }
   ],
   "source": [
    "# check duplicate users\n",
    "len(data) - data['user_id'].nunique()"
   ]
  },
  {
   "cell_type": "markdown",
   "id": "00800439",
   "metadata": {},
   "source": [
    "\n",
    "Within the dataset, there are 3894 instances of duplicate users, which arise either from users engaging in multiple participations or due to the presence of the same user in both the control and treatment (experiment) group."
   ]
  },
  {
   "cell_type": "code",
   "execution_count": 6,
   "id": "43373b76",
   "metadata": {},
   "outputs": [
    {
     "data": {
      "text/plain": [
       "0"
      ]
     },
     "execution_count": 6,
     "metadata": {},
     "output_type": "execute_result"
    }
   ],
   "source": [
    "# remove duplicate data\n",
    "data_dedup = data.drop_duplicates(subset=['user_id'])\n",
    "\n",
    "# check duplicate users\n",
    "len(data_dedup)- data_dedup['user_id'].nunique()"
   ]
  },
  {
   "cell_type": "markdown",
   "id": "02cdfa0a",
   "metadata": {},
   "source": [
    "### Checking the the consistency in allocation of the users in to either group\n",
    "\n",
    "The dataset consists of two groups: control and treatment. The control group should see the old design, and the experiment/treatment group should see the new design. If there exists any discrepancy, then it should be tackled at this stage.\n"
   ]
  },
  {
   "cell_type": "code",
   "execution_count": 7,
   "id": "6c49082f",
   "metadata": {},
   "outputs": [
    {
     "data": {
      "text/html": [
       "<div>\n",
       "<style scoped>\n",
       "    .dataframe tbody tr th:only-of-type {\n",
       "        vertical-align: middle;\n",
       "    }\n",
       "\n",
       "    .dataframe tbody tr th {\n",
       "        vertical-align: top;\n",
       "    }\n",
       "\n",
       "    .dataframe thead th {\n",
       "        text-align: right;\n",
       "    }\n",
       "</style>\n",
       "<table border=\"1\" class=\"dataframe\">\n",
       "  <thead>\n",
       "    <tr style=\"text-align: right;\">\n",
       "      <th>landing_page</th>\n",
       "      <th>new_page</th>\n",
       "      <th>old_page</th>\n",
       "    </tr>\n",
       "    <tr>\n",
       "      <th>group</th>\n",
       "      <th></th>\n",
       "      <th></th>\n",
       "    </tr>\n",
       "  </thead>\n",
       "  <tbody>\n",
       "    <tr>\n",
       "      <th>control</th>\n",
       "      <td>1006</td>\n",
       "      <td>144226</td>\n",
       "    </tr>\n",
       "    <tr>\n",
       "      <th>treatment</th>\n",
       "      <td>144314</td>\n",
       "      <td>1038</td>\n",
       "    </tr>\n",
       "  </tbody>\n",
       "</table>\n",
       "</div>"
      ],
      "text/plain": [
       "landing_page  new_page  old_page\n",
       "group                           \n",
       "control           1006    144226\n",
       "treatment       144314      1038"
      ]
     },
     "execution_count": 7,
     "metadata": {},
     "output_type": "execute_result"
    }
   ],
   "source": [
    "# Check group\n",
    "pd.crosstab(data_dedup['group'], data_dedup['landing_page'])"
   ]
  },
  {
   "cell_type": "markdown",
   "id": "fa7ff254",
   "metadata": {},
   "source": [
    "Based on the displayed table, it can be observed that 1006 users from the control group were exposed to the new design, while 1038 users from the treatment group were exposed to the old design. As a result, the subsequent action to take would involve removing these users."
   ]
  },
  {
   "cell_type": "code",
   "execution_count": 8,
   "id": "33c39a06",
   "metadata": {},
   "outputs": [
    {
     "data": {
      "text/html": [
       "<div>\n",
       "<style scoped>\n",
       "    .dataframe tbody tr th:only-of-type {\n",
       "        vertical-align: middle;\n",
       "    }\n",
       "\n",
       "    .dataframe tbody tr th {\n",
       "        vertical-align: top;\n",
       "    }\n",
       "\n",
       "    .dataframe thead th {\n",
       "        text-align: right;\n",
       "    }\n",
       "</style>\n",
       "<table border=\"1\" class=\"dataframe\">\n",
       "  <thead>\n",
       "    <tr style=\"text-align: right;\">\n",
       "      <th>landing_page</th>\n",
       "      <th>new_page</th>\n",
       "      <th>old_page</th>\n",
       "    </tr>\n",
       "    <tr>\n",
       "      <th>group</th>\n",
       "      <th></th>\n",
       "      <th></th>\n",
       "    </tr>\n",
       "  </thead>\n",
       "  <tbody>\n",
       "    <tr>\n",
       "      <th>control</th>\n",
       "      <td>0</td>\n",
       "      <td>144226</td>\n",
       "    </tr>\n",
       "    <tr>\n",
       "      <th>treatment</th>\n",
       "      <td>144314</td>\n",
       "      <td>0</td>\n",
       "    </tr>\n",
       "  </tbody>\n",
       "</table>\n",
       "</div>"
      ],
      "text/plain": [
       "landing_page  new_page  old_page\n",
       "group                           \n",
       "control              0    144226\n",
       "treatment       144314         0"
      ]
     },
     "execution_count": 8,
     "metadata": {},
     "output_type": "execute_result"
    }
   ],
   "source": [
    "# Remove the users that were exposed to the wrong landing page\n",
    "treat_mis_index = data_dedup [(data_dedup['group'] =='treatment') & (data_dedup['landing_page'] == 'old_page')].index\n",
    "control_mis_index = data_dedup[(data_dedup['group'] == 'control') & (data_dedup['landing_page'] == 'new_page')].index\n",
    "\n",
    "df_cleaned = data_dedup.drop(treat_mis_index).drop(control_mis_index)\n",
    "\n",
    "pd.crosstab(df_cleaned['group'], df_cleaned['landing_page'])"
   ]
  },
  {
   "cell_type": "markdown",
   "id": "0d3d1f8e",
   "metadata": {},
   "source": [
    "The test necessitates a minimum of 4432 samples from each group in order to yield a statistically significant outcome. Nevertheless, if there is an abundance of additional data, utilizing it would enhance the statistical power of the test. For the sake of demonstration, this test solely employs 4432 samples from each group."
   ]
  },
  {
   "cell_type": "code",
   "execution_count": 9,
   "id": "726b60fe",
   "metadata": {},
   "outputs": [
    {
     "data": {
      "text/html": [
       "<div>\n",
       "<style scoped>\n",
       "    .dataframe tbody tr th:only-of-type {\n",
       "        vertical-align: middle;\n",
       "    }\n",
       "\n",
       "    .dataframe tbody tr th {\n",
       "        vertical-align: top;\n",
       "    }\n",
       "\n",
       "    .dataframe thead th {\n",
       "        text-align: right;\n",
       "    }\n",
       "</style>\n",
       "<table border=\"1\" class=\"dataframe\">\n",
       "  <thead>\n",
       "    <tr style=\"text-align: right;\">\n",
       "      <th>landing_page</th>\n",
       "      <th>new_page</th>\n",
       "      <th>old_page</th>\n",
       "    </tr>\n",
       "    <tr>\n",
       "      <th>group</th>\n",
       "      <th></th>\n",
       "      <th></th>\n",
       "    </tr>\n",
       "  </thead>\n",
       "  <tbody>\n",
       "    <tr>\n",
       "      <th>control</th>\n",
       "      <td>0</td>\n",
       "      <td>4432</td>\n",
       "    </tr>\n",
       "    <tr>\n",
       "      <th>treatment</th>\n",
       "      <td>4432</td>\n",
       "      <td>0</td>\n",
       "    </tr>\n",
       "  </tbody>\n",
       "</table>\n",
       "</div>"
      ],
      "text/plain": [
       "landing_page  new_page  old_page\n",
       "group                           \n",
       "control              0      4432\n",
       "treatment         4432         0"
      ]
     },
     "execution_count": 9,
     "metadata": {},
     "output_type": "execute_result"
    }
   ],
   "source": [
    "control = df_cleaned.query(\"group == 'control'\").sample(n=sample_size, random_state=42)\n",
    "treatment = df_cleaned.query(\"group == 'treatment'\").sample(n=sample_size, random_state=42)\n",
    "\n",
    "df_ab = pd.concat([control, treatment], axis=0, ignore_index=True)\n",
    "\n",
    "pd.crosstab(df_ab['group'], df_ab['landing_page'])"
   ]
  },
  {
   "cell_type": "markdown",
   "id": "fba342d2",
   "metadata": {},
   "source": [
    "# Part 4. Analyze the Results and Draw Conclusions"
   ]
  },
  {
   "cell_type": "markdown",
   "id": "7b8d1eba",
   "metadata": {},
   "source": [
    "### Randomization Check\n",
    "To check randomization, we analyze the distribution of important variables (e.g., age, gender, race, location) across the control and treatment groups. For categorical variables like gender, we calculate proportions within each group.For continuous variables like age, we employ a t-test to compare the mean values between the two groups. However, in this particular case study, we lack variables of this nature, preventing us from conducting a randomization analysis."
   ]
  },
  {
   "cell_type": "markdown",
   "id": "9c72f2fc",
   "metadata": {},
   "source": [
    "### Statistical Test"
   ]
  },
  {
   "cell_type": "markdown",
   "id": "501668b1",
   "metadata": {},
   "source": [
    "The choice of an appropriate statistical test in an A/B test relies on specific details such as the type of data, sample size, and experimental design. The two most commonly used statistical tests in A/B testing are:\n",
    "\n",
    "1.\tZ-test: This test is employed when comparing proportions or percentages between two groups. It assumes that the data follows a normal distribution and is suitable for large sample sizes.\n",
    "\n",
    "2.\tT-test: The t-test is used to compare means between two groups. It can be an independent samples t-test or a paired samples t-test, depending on whether the observations in the groups are independent or paired, respectively. The t-test assumes that the data follows a normal distribution and is robust to moderate departures from normality, particularly for large sample sizes.\n",
    "\n",
    "\n",
    "In this case study, the appropriate statistical test would be the Z-test since the target metric is the conversion rate, which is a proportion. For the Z-test of proportions, both the control and treatment groups should have sufficient sample sizes. It is recommended that both groups have at least 10 successes and 10 failures as a general rule of thumb. This ensures that the sample sizes are large enough to support the normal approximation for the distribution of proportions.\n"
   ]
  },
  {
   "cell_type": "code",
   "execution_count": 16,
   "id": "bb94945a",
   "metadata": {},
   "outputs": [
    {
     "name": "stdout",
     "output_type": "stream",
     "text": [
      "treatment success: 536\n",
      "treatment failure: 3896\n",
      "control success: 544\n",
      "control failure: 3888\n"
     ]
    }
   ],
   "source": [
    "\n",
    "# Select the relevant data for control and treatment groups\n",
    "control_results = df_ab.loc[df_ab['group'] == 'control', 'converted']\n",
    "treatment_results = df_ab.loc[df_ab['group'] == 'treatment', 'converted']\n",
    "\n",
    "# Calculate the sample sizes\n",
    "n_control = control_results.shape[0]\n",
    "n_treatment = treatment_results.shape[0]\n",
    "\n",
    "# Count the number of conversions\n",
    "converted_control = control_results.sum()\n",
    "converted_treatment = treatment_results.sum()\n",
    "\n",
    "# Create the conversion and sample size lists\n",
    "conversion_list = [converted_control, converted_treatment]\n",
    "n_list = [n_control, n_treatment]\n",
    "# Check if both groups have at least 10 successes and 10 failures\n",
    "\n",
    "print(f\"treatment success: {converted_treatment}\")\n",
    "print(f\"treatment failure: {n_treatment - converted_treatment}\")\n",
    "print(f\"control success: {converted_control}\")\n",
    "print(f\"control failure: {n_control - converted_control}\")\n"
   ]
  },
  {
   "cell_type": "markdown",
   "id": "336c686a",
   "metadata": {},
   "source": [
    "Since the expected number of successes and failures is greater than 10 for each group, \n",
    "both groups meet the rule of thumb."
   ]
  },
  {
   "cell_type": "code",
   "execution_count": 17,
   "id": "8c1fedd4",
   "metadata": {
    "scrolled": true
   },
   "outputs": [
    {
     "name": "stdout",
     "output_type": "stream",
     "text": [
      "Converted control: 544/4432\n",
      "Converted treatment: 536/4432\n",
      "Z-statistic: 0.2598\n",
      "P-value: 0.7950\n"
     ]
    }
   ],
   "source": [
    "# Perform the z-test\n",
    "z_stat, p_value = proportions_ztest(conversion_list, n_list)\n",
    "\n",
    "# Printing the results\n",
    "print(f\"Converted control: {converted_control}/{n_control}\")\n",
    "print(f\"Converted treatment: {converted_treatment}/{n_treatment}\")\n",
    "print(f\"Z-statistic: {z_stat:.4f}\")\n",
    "print(f\"P-value: {p_value:.4f}\")"
   ]
  },
  {
   "cell_type": "markdown",
   "id": "efb6e7c8",
   "metadata": {},
   "source": [
    "### Conclusion"
   ]
  },
  {
   "cell_type": "markdown",
   "id": "d0f1a95a",
   "metadata": {},
   "source": [
    "The p-value of 0.795 is above the significance level of 0.05. Hence, we cannot reject the null hypothesis. This test indicates that the new design would not increase the expected conversion rate by 2%."
   ]
  },
  {
   "cell_type": "markdown",
   "id": "af001065",
   "metadata": {},
   "source": [
    "### Recommendation\n",
    "\n",
    "Since there is no statistically significalnt increase in the conversion rate of the new web page, my recommendation would be to refrain from implementing the new web page. "
   ]
  }
 ],
 "metadata": {
  "kernelspec": {
   "display_name": "Python 3 (ipykernel)",
   "language": "python",
   "name": "python3"
  },
  "language_info": {
   "codemirror_mode": {
    "name": "ipython",
    "version": 3
   },
   "file_extension": ".py",
   "mimetype": "text/x-python",
   "name": "python",
   "nbconvert_exporter": "python",
   "pygments_lexer": "ipython3",
   "version": "3.9.16"
  }
 },
 "nbformat": 4,
 "nbformat_minor": 5
}
